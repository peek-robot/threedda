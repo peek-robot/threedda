{
 "cells": [
  {
   "cell_type": "code",
   "execution_count": 9,
   "metadata": {},
   "outputs": [],
   "source": [
    "import json\n",
    "\n",
    "import robomimic.utils.train_utils as TrainUtils\n",
    "import robomimic.utils.file_utils as FileUtils\n",
    "import robomimic.utils.obs_utils as ObsUtils\n",
    "\n",
    "from robomimic.config import config_factory\n",
    "\n",
    "from torch.utils.data import DataLoader\n",
    "\n",
    "def get_dataloaders_from_mimic(config_path, data_path):\n",
    "    ext_cfg = json.load(open(config_path, 'r'))\n",
    "    config = config_factory(ext_cfg[\"algo_name\"])\n",
    "    # update config with external json - this will throw errors if\n",
    "    # the external config has keys not present in the base algo config\n",
    "    with config.values_unlocked():\n",
    "        config.update(ext_cfg)\n",
    "        config.train.data = data_path\n",
    "\n",
    "    ObsUtils.initialize_obs_utils_with_config(config)\n",
    "\n",
    "    action_keys = [\"actions\"]\n",
    "    shape_meta = FileUtils.get_shape_metadata_from_dataset(\n",
    "            dataset_path=config.train.data,\n",
    "            all_obs_keys=config.all_obs_keys,\n",
    "            action_keys = action_keys,\n",
    "            language_conditioned=config.observation.language_conditioned,\n",
    "            verbose=True)\n",
    "\n",
    "    trainset, validset = TrainUtils.load_data_for_training(\n",
    "        config, obs_keys=shape_meta[\"all_obs_keys\"])\n",
    "    train_sampler = trainset.get_dataset_sampler()\n",
    "\n",
    "    # initialize data loaders\n",
    "    train_loader = DataLoader(dataset=trainset,\n",
    "                                sampler=train_sampler,\n",
    "                                batch_size=config.train.batch_size,\n",
    "                                shuffle=(train_sampler is None),\n",
    "                                num_workers=config.train.num_data_workers,\n",
    "                                drop_last=True)\n",
    "\n",
    "    if config.experiment.validate:\n",
    "        # cap num workers for validation dataset at 1\n",
    "        num_workers = min(config.train.num_data_workers, 1)\n",
    "        valid_sampler = validset.get_dataset_sampler()\n",
    "        valid_loader = DataLoader(dataset=validset,\n",
    "                                  sampler=valid_sampler,\n",
    "                                  batch_size=config.train.batch_size,\n",
    "                                  shuffle=(valid_sampler is None),\n",
    "                                  num_workers=num_workers,\n",
    "                                  drop_last=True)\n",
    "    else:\n",
    "        valid_loader = None\n",
    "\n",
    "    return train_loader, valid_loader"
   ]
  },
  {
   "cell_type": "code",
   "execution_count": 10,
   "metadata": {},
   "outputs": [
    {
     "name": "stdout",
     "output_type": "stream",
     "text": [
      "\n",
      "============= Initialized Observation Utils with Obs Spec =============\n",
      "\n",
      "using obs modality: low_dim with keys: ['qpos_normalized']\n",
      "using obs modality: rgb with keys: []\n",
      "using obs modality: depth with keys: []\n",
      "using obs modality: scan with keys: []\n",
      "using obs modality: pc with keys: ['camera_intrinsic', 'depth', 'camera_extrinsic']\n",
      "obs key camera_extrinsic with shape (4, 4)\n",
      "obs key camera_intrinsic with shape (3, 3)\n",
      "obs key depth with shape (128, 128)\n",
      "obs key qpos_normalized with shape (7,)\n",
      "SequenceDataset: loading dataset into memory...\n",
      "  0%|          | 0/495 [00:00<?, ?it/s]"
     ]
    },
    {
     "name": "stdout",
     "output_type": "stream",
     "text": [
      "100%|██████████| 495/495 [00:00<00:00, 5935.81it/s]\n",
      "SequenceDataset: loading dataset into memory...\n",
      "100%|██████████| 5/5 [00:00<00:00, 4509.03it/s]\n"
     ]
    }
   ],
   "source": [
    "config_path = \"/home/memmelma/Projects/robotic/robomimic_pcd/robomimic/config/default_templates/proprio_pcd_no_noise.json\"\n",
    "data_path = \"/home/memmelma/Projects/robotic/gifs_curobo/red_cube_500_pcd_vanilla.hdf5\"\n",
    "\n",
    "train_loader, valid_loader = get_dataloaders_from_mimic(config_path, data_path)"
   ]
  },
  {
   "cell_type": "code",
   "execution_count": 11,
   "metadata": {},
   "outputs": [],
   "source": [
    "batch = next(iter(train_loader))"
   ]
  },
  {
   "cell_type": "code",
   "execution_count": 12,
   "metadata": {},
   "outputs": [],
   "source": [
    "batch = next(iter(valid_loader))"
   ]
  },
  {
   "cell_type": "code",
   "execution_count": 7,
   "metadata": {},
   "outputs": [
    {
     "data": {
      "text/plain": [
       "dict_keys(['camera_extrinsic', 'camera_intrinsic', 'depth', 'qpos_normalized'])"
      ]
     },
     "execution_count": 7,
     "metadata": {},
     "output_type": "execute_result"
    }
   ],
   "source": [
    "batch[\"obs\"].keys()"
   ]
  }
 ],
 "metadata": {
  "kernelspec": {
   "display_name": "robomimic_mp",
   "language": "python",
   "name": "python3"
  },
  "language_info": {
   "codemirror_mode": {
    "name": "ipython",
    "version": 3
   },
   "file_extension": ".py",
   "mimetype": "text/x-python",
   "name": "python",
   "nbconvert_exporter": "python",
   "pygments_lexer": "ipython3",
   "version": "3.10.17"
  }
 },
 "nbformat": 4,
 "nbformat_minor": 2
}
