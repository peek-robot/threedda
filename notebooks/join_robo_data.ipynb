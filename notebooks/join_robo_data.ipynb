{
 "cells": [
  {
   "cell_type": "code",
   "execution_count": null,
   "id": "909cd3d7",
   "metadata": {},
   "outputs": [
    {
     "name": "stderr",
     "output_type": "stream",
     "text": [
      "/tmp/ipykernel_1286775/609289151.py:14: UserWarning: swmr=True only affects read ('r') mode. For swmr write mode, set f.swmr_mode = True after opening the file.\n",
      "  with h5py.File(join_file, \"r+\", swmr=True) as join_file:\n"
     ]
    }
   ],
   "source": [
    "# import h5py\n",
    "# join_files = [\n",
    "#     \"/home/memmelma/Projects/tool_use/data/PnP/trajs_1000_s2r_0.hdf5\",\n",
    "#     \"/home/memmelma/Projects/tool_use/data/PnP/trajs_2000_s2r_1.hdf5\",\n",
    "#     \"/home/memmelma/Projects/tool_use/data/PnP/trajs_1000_s2r_2.hdf5\",\n",
    "#     \"/home/memmelma/Projects/tool_use/data/PnP/trajs_2000_s2r_3.hdf5\",\n",
    "# ]\n",
    "# out_file = \"/home/memmelma/Projects/tool_use/data/PnP/trajs_joint_s2r_0123.hdf5\"\n",
    "\n",
    "# with h5py.File(out_file, \"w\") as out_file:\n",
    "#     data_grp = out_file.create_group(\"data\")\n",
    "#     demo_idx = 0\n",
    "\n",
    "#     for i, join_file in enumerate(join_files):\n",
    "        \n",
    "#         with h5py.File(join_file, \"r+\", swmr=True) as join_file:\n",
    "\n",
    "#             # copy attrs\n",
    "#             if i == 0:\n",
    "#                 for key in join_file.attrs.keys():\n",
    "#                     data_grp.attrs[key] = join_file.attrs[key]\n",
    "\n",
    "#             # copy data\n",
    "#             for demo_key in join_file[\"data\"].keys():\n",
    "#                 join_file[\"data\"][demo_key].copy(data_grp, f\"demo_{demo_idx}\")\n"
   ]
  },
  {
   "cell_type": "code",
   "execution_count": 2,
   "id": "b97cecbf",
   "metadata": {},
   "outputs": [
    {
     "name": "stdout",
     "output_type": "stream",
     "text": [
      "done - 1722 demos\n"
     ]
    }
   ],
   "source": [
    "import h5py\n",
    "join_files = [\n",
    "    # \"/home/memmelma/Projects/tool_use/data/PnP/trajs_1000_s2r_0.hdf5\",\n",
    "    # \"/home/memmelma/Projects/tool_use/data/PnP/trajs_2000_s2r_1.hdf5\",\n",
    "    # \"/home/memmelma/Projects/tool_use/data/PnP/trajs_1000_s2r_2.hdf5\",\n",
    "    # \"/home/memmelma/Projects/tool_use/data/PnP/trajs_2000_s2r_3.hdf5\",\n",
    "\n",
    "    \"/home/memmelma/Projects/tool_use/data/PnP/trajs_1000_s2r_1_0.hdf5\",\n",
    "\n",
    "    \"/home/memmelma/Projects/tool_use/data/PnP/trajs_1000_s2r_1_2.hdf5\",\n",
    "]\n",
    "out_file = \"/home/memmelma/Projects/tool_use/data/PnP/trajs_joint_s2r_1_02.hdf5\"\n",
    "\n",
    "dk_idx = 0\n",
    "\n",
    "with h5py.File(out_file, \"w\") as f_new:\n",
    "    f_new_data = f_new.create_group(\"data\")\n",
    "\n",
    "    # load original dataset\n",
    "    for join_file in join_files:\n",
    "\n",
    "        with h5py.File(join_file, 'r') as f_orig:\n",
    "            f_orig_data = f_orig[\"data\"]\n",
    "\n",
    "            # copy original dataset to new dataset\n",
    "            for k in f_orig_data.keys():\n",
    "                f_orig_data.copy(k, f_new_data, name=\"demo_{}\".format(dk_idx))\n",
    "                dk_idx += 1\n",
    "\n",
    "            for k in f_orig_data.attrs.keys():\n",
    "                # copy original attributes to new dataset\n",
    "                f_new_data.attrs[k] = f_orig_data.attrs[k]\n",
    "\n",
    "print(\"done - {} demos\".format(dk_idx))"
   ]
  },
  {
   "cell_type": "code",
   "execution_count": 3,
   "id": "6dbe3a2e",
   "metadata": {},
   "outputs": [
    {
     "ename": "FileNotFoundError",
     "evalue": "[Errno 2] Unable to synchronously open file (unable to open file: name = '/home/memmelma/Projects/tool_use/data/PnP/trajs_1000_s2r_0_3.hdf5', errno = 2, error message = 'No such file or directory', flags = 0, o_flags = 0)",
     "output_type": "error",
     "traceback": [
      "\u001b[0;31m---------------------------------------------------------------------------\u001b[0m",
      "\u001b[0;31mFileNotFoundError\u001b[0m                         Traceback (most recent call last)",
      "Cell \u001b[0;32mIn[3], line 2\u001b[0m\n\u001b[1;32m      1\u001b[0m rgb_exists \u001b[38;5;241m=\u001b[39m []\n\u001b[0;32m----> 2\u001b[0m \u001b[38;5;28;01mwith\u001b[39;00m \u001b[43mh5py\u001b[49m\u001b[38;5;241;43m.\u001b[39;49m\u001b[43mFile\u001b[49m\u001b[43m(\u001b[49m\u001b[38;5;124;43m\"\u001b[39;49m\u001b[38;5;124;43m/home/memmelma/Projects/tool_use/data/PnP/trajs_1000_s2r_0_3.hdf5\u001b[39;49m\u001b[38;5;124;43m\"\u001b[39;49m\u001b[43m,\u001b[49m\u001b[43m \u001b[49m\u001b[38;5;124;43m\"\u001b[39;49m\u001b[38;5;124;43mr\u001b[39;49m\u001b[38;5;124;43m\"\u001b[39;49m\u001b[43m)\u001b[49m \u001b[38;5;28;01mas\u001b[39;00m f_new:\n\u001b[1;32m      3\u001b[0m     f_new_data \u001b[38;5;241m=\u001b[39m f_new[\u001b[38;5;124m\"\u001b[39m\u001b[38;5;124mdata\u001b[39m\u001b[38;5;124m\"\u001b[39m]\n\u001b[1;32m      4\u001b[0m     \u001b[38;5;28;01mfor\u001b[39;00m dk \u001b[38;5;129;01min\u001b[39;00m f_new_data\u001b[38;5;241m.\u001b[39mkeys():\n",
      "File \u001b[0;32m~/miniforge3/envs/pr_3dda/lib/python3.10/site-packages/h5py/_hl/files.py:564\u001b[0m, in \u001b[0;36mFile.__init__\u001b[0;34m(self, name, mode, driver, libver, userblock_size, swmr, rdcc_nslots, rdcc_nbytes, rdcc_w0, track_order, fs_strategy, fs_persist, fs_threshold, fs_page_size, page_buf_size, min_meta_keep, min_raw_keep, locking, alignment_threshold, alignment_interval, meta_block_size, **kwds)\u001b[0m\n\u001b[1;32m    555\u001b[0m     fapl \u001b[38;5;241m=\u001b[39m make_fapl(driver, libver, rdcc_nslots, rdcc_nbytes, rdcc_w0,\n\u001b[1;32m    556\u001b[0m                      locking, page_buf_size, min_meta_keep, min_raw_keep,\n\u001b[1;32m    557\u001b[0m                      alignment_threshold\u001b[38;5;241m=\u001b[39malignment_threshold,\n\u001b[1;32m    558\u001b[0m                      alignment_interval\u001b[38;5;241m=\u001b[39malignment_interval,\n\u001b[1;32m    559\u001b[0m                      meta_block_size\u001b[38;5;241m=\u001b[39mmeta_block_size,\n\u001b[1;32m    560\u001b[0m                      \u001b[38;5;241m*\u001b[39m\u001b[38;5;241m*\u001b[39mkwds)\n\u001b[1;32m    561\u001b[0m     fcpl \u001b[38;5;241m=\u001b[39m make_fcpl(track_order\u001b[38;5;241m=\u001b[39mtrack_order, fs_strategy\u001b[38;5;241m=\u001b[39mfs_strategy,\n\u001b[1;32m    562\u001b[0m                      fs_persist\u001b[38;5;241m=\u001b[39mfs_persist, fs_threshold\u001b[38;5;241m=\u001b[39mfs_threshold,\n\u001b[1;32m    563\u001b[0m                      fs_page_size\u001b[38;5;241m=\u001b[39mfs_page_size)\n\u001b[0;32m--> 564\u001b[0m     fid \u001b[38;5;241m=\u001b[39m \u001b[43mmake_fid\u001b[49m\u001b[43m(\u001b[49m\u001b[43mname\u001b[49m\u001b[43m,\u001b[49m\u001b[43m \u001b[49m\u001b[43mmode\u001b[49m\u001b[43m,\u001b[49m\u001b[43m \u001b[49m\u001b[43muserblock_size\u001b[49m\u001b[43m,\u001b[49m\u001b[43m \u001b[49m\u001b[43mfapl\u001b[49m\u001b[43m,\u001b[49m\u001b[43m \u001b[49m\u001b[43mfcpl\u001b[49m\u001b[43m,\u001b[49m\u001b[43m \u001b[49m\u001b[43mswmr\u001b[49m\u001b[38;5;241;43m=\u001b[39;49m\u001b[43mswmr\u001b[49m\u001b[43m)\u001b[49m\n\u001b[1;32m    566\u001b[0m \u001b[38;5;28;01mif\u001b[39;00m \u001b[38;5;28misinstance\u001b[39m(libver, \u001b[38;5;28mtuple\u001b[39m):\n\u001b[1;32m    567\u001b[0m     \u001b[38;5;28mself\u001b[39m\u001b[38;5;241m.\u001b[39m_libver \u001b[38;5;241m=\u001b[39m libver\n",
      "File \u001b[0;32m~/miniforge3/envs/pr_3dda/lib/python3.10/site-packages/h5py/_hl/files.py:238\u001b[0m, in \u001b[0;36mmake_fid\u001b[0;34m(name, mode, userblock_size, fapl, fcpl, swmr)\u001b[0m\n\u001b[1;32m    236\u001b[0m     \u001b[38;5;28;01mif\u001b[39;00m swmr \u001b[38;5;129;01mand\u001b[39;00m swmr_support:\n\u001b[1;32m    237\u001b[0m         flags \u001b[38;5;241m|\u001b[39m\u001b[38;5;241m=\u001b[39m h5f\u001b[38;5;241m.\u001b[39mACC_SWMR_READ\n\u001b[0;32m--> 238\u001b[0m     fid \u001b[38;5;241m=\u001b[39m \u001b[43mh5f\u001b[49m\u001b[38;5;241;43m.\u001b[39;49m\u001b[43mopen\u001b[49m\u001b[43m(\u001b[49m\u001b[43mname\u001b[49m\u001b[43m,\u001b[49m\u001b[43m \u001b[49m\u001b[43mflags\u001b[49m\u001b[43m,\u001b[49m\u001b[43m \u001b[49m\u001b[43mfapl\u001b[49m\u001b[38;5;241;43m=\u001b[39;49m\u001b[43mfapl\u001b[49m\u001b[43m)\u001b[49m\n\u001b[1;32m    239\u001b[0m \u001b[38;5;28;01melif\u001b[39;00m mode \u001b[38;5;241m==\u001b[39m \u001b[38;5;124m'\u001b[39m\u001b[38;5;124mr+\u001b[39m\u001b[38;5;124m'\u001b[39m:\n\u001b[1;32m    240\u001b[0m     fid \u001b[38;5;241m=\u001b[39m h5f\u001b[38;5;241m.\u001b[39mopen(name, h5f\u001b[38;5;241m.\u001b[39mACC_RDWR, fapl\u001b[38;5;241m=\u001b[39mfapl)\n",
      "File \u001b[0;32mh5py/_objects.pyx:56\u001b[0m, in \u001b[0;36mh5py._objects.with_phil.wrapper\u001b[0;34m()\u001b[0m\n",
      "File \u001b[0;32mh5py/_objects.pyx:57\u001b[0m, in \u001b[0;36mh5py._objects.with_phil.wrapper\u001b[0;34m()\u001b[0m\n",
      "File \u001b[0;32mh5py/h5f.pyx:102\u001b[0m, in \u001b[0;36mh5py.h5f.open\u001b[0;34m()\u001b[0m\n",
      "\u001b[0;31mFileNotFoundError\u001b[0m: [Errno 2] Unable to synchronously open file (unable to open file: name = '/home/memmelma/Projects/tool_use/data/PnP/trajs_1000_s2r_0_3.hdf5', errno = 2, error message = 'No such file or directory', flags = 0, o_flags = 0)"
     ]
    }
   ],
   "source": [
    "rgb_exists = []\n",
    "with h5py.File(\"/home/memmelma/Projects/tool_use/data/PnP/trajs_1000_s2r_0_3.hdf5\", \"r\") as f_new:\n",
    "    f_new_data = f_new[\"data\"]\n",
    "    for dk in f_new_data.keys():\n",
    "        if \"path_vlm\" in f_new_data[dk][\"obs\"].keys():\n",
    "            rgb_exists.append(True)\n",
    "        else:\n",
    "            rgb_exists.append(False)\n",
    "\n",
    "np.mean(rgb_exists)\n"
   ]
  },
  {
   "cell_type": "code",
   "execution_count": 4,
   "id": "2919bd23",
   "metadata": {},
   "outputs": [],
   "source": [
    "import h5py\n",
    "import numpy as np\n",
    "\n",
    "with h5py.File(out_file, \"a\") as file:\n",
    "\n",
    "    for dk in file[\"data\"].keys():\n",
    "        \n",
    "        if not \"rgb\" in file[\"data\"][dk][\"obs\"].keys():\n",
    "            print(f\"deleting {dk} because it has no rgb\")\n",
    "            del file[\"data\"][dk]\n",
    "            continue\n",
    "\n",
    "        if not \"path_vlm\" in file[\"data\"][dk][\"obs\"].keys():\n",
    "            print(f\"deleting {dk} because it has no path_vlm\")\n",
    "            del file[\"data\"][dk]\n",
    "            continue\n",
    "\n",
    "        tmp = file[\"data\"][dk][\"obs\"][\"path_vlm\"][0]\n",
    "        try:\n",
    "            del file[\"data\"][dk][\"obs\"][\"path_vlm\"]\n",
    "        except:\n",
    "            pass\n",
    "        file[\"data\"][dk][\"obs\"][\"path_vlm\"] = np.repeat(tmp[None], file[\"data\"][dk][\"obs\"][\"rgb\"].shape[0], axis=0)\n",
    "        \n",
    "        tmp = file[\"data\"][dk][\"obs\"][\"mask_vlm\"][0]\n",
    "        try:\n",
    "            del file[\"data\"][dk][\"obs\"][\"mask_vlm\"]\n",
    "        except:\n",
    "            pass\n",
    "        file[\"data\"][dk][\"obs\"][\"mask_vlm\"] = np.repeat(tmp[None], file[\"data\"][dk][\"obs\"][\"rgb\"].shape[0], axis=0)\n",
    "        "
   ]
  },
  {
   "cell_type": "code",
   "execution_count": null,
   "id": "86a941a2",
   "metadata": {},
   "outputs": [],
   "source": []
  }
 ],
 "metadata": {
  "kernelspec": {
   "display_name": "pr_3dda",
   "language": "python",
   "name": "python3"
  },
  "language_info": {
   "codemirror_mode": {
    "name": "ipython",
    "version": 3
   },
   "file_extension": ".py",
   "mimetype": "text/x-python",
   "name": "python",
   "nbconvert_exporter": "python",
   "pygments_lexer": "ipython3",
   "version": "3.10.18"
  }
 },
 "nbformat": 4,
 "nbformat_minor": 5
}
