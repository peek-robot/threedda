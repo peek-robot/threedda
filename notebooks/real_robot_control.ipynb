{
 "cells": [
  {
   "cell_type": "code",
   "execution_count": 1,
   "id": "bb3075c6",
   "metadata": {},
   "outputs": [
    {
     "name": "stdout",
     "output_type": "stream",
     "text": [
      "Jupyter environment detected. Enabling Open3D WebVisualizer.\n",
      "[Open3D INFO] WebRTC GUI backend enabled.\n",
      "[Open3D INFO] WebRTCWindowSystem: HTTP handshake server disabled.\n",
      "Waiting for meshcat server... have you started a server? Run `meshcat-server` to start a server\n",
      "You can open the visualizer by visiting the following URL:\n",
      "http://127.0.0.1:7000/static/\n"
     ]
    }
   ],
   "source": [
    "import os\n",
    "import numpy as np\n",
    "\n",
    "from fs2r import BASE_DIR\n",
    "from fs2r.robot_env import RobotEnv\n",
    "from fs2r.utils.pointcloud import read_calibration_file\n",
    "\n",
    "calib_file = os.path.join(BASE_DIR, \"perception/calibrations\", \"most_recent_calib.json\")\n",
    "calib_dict = read_calibration_file(calib_file)\n",
    "env_config = {\n",
    "    \"address\": \"172.16.0.1\",\n",
    "    \"port\": 5050,\n",
    "    \"camera_index\": 0,\n",
    "    \"obs_keys\": [\"lang_instr\", \"qpos\", \"qpos_normalized\", \"gripper_state_discrete\", \"rgb\", \"depth\", \"camera_intrinsic\", \"camera_extrinsic\"],\n",
    "    \"calib_dict\": calib_dict,\n",
    "    \"foundation_stereo\": True,\n",
    "    \"img_resize\": (128, 128),\n",
    "}\n",
    "env = RobotEnv(**env_config)\n",
    "obs = env.reset()\n",
    "\n",
    "def depth_to_points(depth, intrinsic, extrinsic, depth_scale=1000.0):\n",
    "    height, width = depth.shape[:2]\n",
    "    depth = depth.squeeze() / depth_scale\n",
    "    xlin = np.linspace(0, width - 1, width)\n",
    "    ylin = np.linspace(0, height - 1, height)\n",
    "    px, py = np.meshgrid(xlin, ylin)\n",
    "    px = (px - intrinsic[0, 2]) * (depth / intrinsic[0, 0])\n",
    "    py = (py - intrinsic[1, 2]) * (depth / intrinsic[1, 1])\n",
    "    points = np.stack((px, py, depth, np.ones(depth.shape)), axis=-1)\n",
    "    points = (extrinsic @ points.reshape(-1, 4).T).T\n",
    "    points = points[:, :3]\n",
    "    return points\n",
    "\n",
    "from fs2r.utils.meshcat import create_visualizer, visualize_pointcloud\n",
    "vis = create_visualizer()\n",
    "\n",
    "obs_real = env.get_obs()\n",
    "H, W = obs_real[\"depth\"].shape\n",
    "points = depth_to_points(obs_real[\"depth\"].reshape(H, W), obs_real[\"camera_intrinsic\"].reshape(3, 3), obs_real[\"camera_extrinsic\"].reshape(4, 4), depth_scale=1000.)\n",
    "points = points.reshape(H, W, 3)\n",
    "colors = obs_real[\"rgb\"].reshape(H, W, 3) / 255.\n",
    "\n",
    "visualize_pointcloud(\n",
    "    vis, 'points_real',\n",
    "    pc=points,\n",
    "    color=colors * 255.,\n",
    "    # color=np.ones_like(points) * [0., 0., 255.],\n",
    "    size=0.01\n",
    ")"
   ]
  }
 ],
 "metadata": {
  "kernelspec": {
   "display_name": "pr_3dda",
   "language": "python",
   "name": "python3"
  },
  "language_info": {
   "codemirror_mode": {
    "name": "ipython",
    "version": 3
   },
   "file_extension": ".py",
   "mimetype": "text/x-python",
   "name": "python",
   "nbconvert_exporter": "python",
   "pygments_lexer": "ipython3",
   "version": "3.10.18"
  }
 },
 "nbformat": 4,
 "nbformat_minor": 5
}
