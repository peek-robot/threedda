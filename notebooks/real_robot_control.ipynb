{
 "cells": [
  {
   "cell_type": "code",
   "execution_count": null,
   "id": "bb3075c6",
   "metadata": {},
   "outputs": [],
   "source": [
    "import os\n",
    "\n",
    "from fs2r import BASE_DIR\n",
    "from fs2r.robot_env import RobotEnv\n",
    "from fs2r.utils.pointcloud import read_calibration_file\n",
    "\n",
    "calib_file = os.path.join(BASE_DIR, \"perception/calibrations\", \"most_recent_calib_zed_middle.json\")\n",
    "calib_dict = read_calibration_file(calib_file)\n",
    "env_config = {\n",
    "    \"address\": \"172.16.0.1\",\n",
    "    \"port\": 5050,\n",
    "    \"camera_index\": 0,\n",
    "    \"obs_keys\": [\"lang_instr\", \"qpos\", \"qpos_normalized\", \"gripper_state_discrete\", \"rgb\", \"depth\", \"camera_intrinsic\", \"camera_extrinsic\"],\n",
    "    \"calib_dict\": calib_dict,\n",
    "    \"foundation_stereo\": True,\n",
    "    \"img_resize\": (128, 128),\n",
    "}\n",
    "env = RobotEnv(**env_config)"
   ]
  }
 ],
 "metadata": {
  "language_info": {
   "name": "python"
  }
 },
 "nbformat": 4,
 "nbformat_minor": 5
}
