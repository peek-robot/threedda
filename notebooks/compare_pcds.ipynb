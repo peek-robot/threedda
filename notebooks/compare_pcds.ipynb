{
 "cells": [
  {
   "cell_type": "code",
   "execution_count": null,
   "metadata": {},
   "outputs": [],
   "source": [
    "import numpy as np\n",
    "\n",
    "from problem_reduction.points.meshcat import create_visualizer, visualize_pointcloud"
   ]
  },
  {
   "cell_type": "code",
   "execution_count": null,
   "metadata": {},
   "outputs": [],
   "source": [
    "# crixus: python run_3dda_eval.py --name 3dda_pick_s2r --mode open_loop --n_steps 2 --ckpt best --dataset gifs_curobo/pick_5_1_objs_sim2real.hdf5 --n_rollouts 1\n",
    "# dieter: python run_3dda_eval_sim.py --name 3dda_pick_s2r --mode closed_loop --n_steps 2 --ckpt results/3dda_pick_s2r/best.pth --dataset data/pick_5_1_objs_sim2real.hdf5"
   ]
  },
  {
   "cell_type": "code",
   "execution_count": 15,
   "metadata": {},
   "outputs": [],
   "source": [
    "fps_sim, visible_sim = np.load('tmp/fps_sim.npy'), np.load('tmp/visible_sim.npy')\n",
    "fps_real, visible_real = np.load('tmp/fps_real.npy'), np.load('tmp/visible_real.npy')"
   ]
  },
  {
   "cell_type": "code",
   "execution_count": 16,
   "metadata": {},
   "outputs": [
    {
     "name": "stdout",
     "output_type": "stream",
     "text": [
      "Waiting for meshcat server... have you started a server? Run `meshcat-server` to start a server\n",
      "You can open the visualizer by visiting the following URL:\n",
      "http://127.0.0.1:7000/static/\n"
     ]
    }
   ],
   "source": [
    "vis = create_visualizer()\n",
    "\n",
    "visualize_pointcloud(\n",
    "    vis, 'fps_sim',\n",
    "    pc=fps_sim,\n",
    "    color=np.ones_like(fps_sim) * [255, 0, 0],\n",
    "    size=0.01\n",
    ")\n",
    "\n",
    "visualize_pointcloud(\n",
    "    vis, 'fps_real',\n",
    "    pc=fps_real,\n",
    "    color=np.ones_like(fps_real) * [0, 255, 0],\n",
    "    size=0.01\n",
    ")"
   ]
  },
  {
   "cell_type": "code",
   "execution_count": 17,
   "metadata": {},
   "outputs": [
    {
     "name": "stdout",
     "output_type": "stream",
     "text": [
      "Waiting for meshcat server... have you started a server? Run `meshcat-server` to start a server\n",
      "You can open the visualizer by visiting the following URL:\n",
      "http://127.0.0.1:7000/static/\n"
     ]
    }
   ],
   "source": [
    "vis = create_visualizer()\n",
    "\n",
    "visualize_pointcloud(\n",
    "    vis, 'visible_sim',\n",
    "    pc=visible_sim[...,:3],\n",
    "    color=np.ones_like(visible_sim[...,:3]) * [255, 0, 0],\n",
    "    # color=visible_sim[...,3:6] * 255,\n",
    "    size=0.01\n",
    ")\n",
    "\n",
    "visualize_pointcloud(\n",
    "    vis, 'visible_real',\n",
    "    pc=visible_real[...,:3],\n",
    "    color=np.ones_like(visible_real[...,:3]) * [0, 255, 0],\n",
    "    # color=visible_real[...,3:6] * 255,\n",
    "    size=0.01\n",
    ")"
   ]
  },
  {
   "cell_type": "code",
   "execution_count": null,
   "metadata": {},
   "outputs": [],
   "source": []
  }
 ],
 "metadata": {
  "kernelspec": {
   "display_name": "robomimic_mp",
   "language": "python",
   "name": "python3"
  },
  "language_info": {
   "codemirror_mode": {
    "name": "ipython",
    "version": 3
   },
   "file_extension": ".py",
   "mimetype": "text/x-python",
   "name": "python",
   "nbconvert_exporter": "python",
   "pygments_lexer": "ipython3",
   "version": "3.10.17"
  }
 },
 "nbformat": 4,
 "nbformat_minor": 2
}
