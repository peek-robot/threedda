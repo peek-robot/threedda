{
 "cells": [
  {
   "cell_type": "code",
   "execution_count": 2,
   "metadata": {},
   "outputs": [],
   "source": [
    "import os\n",
    "import json\n",
    "import glob\n",
    "from tqdm import tqdm"
   ]
  },
  {
   "cell_type": "code",
   "execution_count": 5,
   "metadata": {},
   "outputs": [
    {
     "name": "stderr",
     "output_type": "stream",
     "text": [
      "100%|██████████| 445/445 [00:03<00:00, 119.52it/s]\n"
     ]
    },
    {
     "name": "stdout",
     "output_type": "stream",
     "text": [
      "merged 28955 samples at /home/mmemmel/projects/vila/data/sim_path_mask_subtraj/sim_path_mask_subtraj_conv.jsonl\n"
     ]
    }
   ],
   "source": [
    "data_dirs = [\n",
    "    # \"/home/mmemmel/projects/vila/data/oxe_processed_path_mask_history_subtraj_hist\",\n",
    "    # \"/home/mmemmel/projects/vila/data/oxe_processed_path_mask_subtraj\",\n",
    "    # \"/home/mmemmel/projects/vila/data/sim_path_mask_history_subtraj_hist\",\n",
    "    \"/home/mmemmel/projects/vila/data/sim_path_mask_subtraj\",\n",
    "    # \"/home/mmemmel/projects/vila/data/sim_path_mask_history_subtraj_hist_ood\",\n",
    "    # \"/home/mmemmel/projects/vila/data/sim_path_mask_subtraj_ood\"\n",
    "\n",
    "]\n",
    "\n",
    "for data_dir in data_dirs:\n",
    "\n",
    "    files = glob.glob(os.path.join(data_dir, \"**\", \"*_conv.jsonl\"), recursive=True)\n",
    "\n",
    "    # load files\n",
    "    data = []\n",
    "    for file in tqdm(files):\n",
    "        for line in open(file):\n",
    "            string = json.loads(line)[\"conversations\"][1][\"value\"]\n",
    "            # assert string.startswith(\"TRAJECTORY: \"), string\n",
    "            data.append(json.loads(line))\n",
    "\n",
    "    # # save merged data\n",
    "    save_path = os.path.join(data_dir, f\"{data_dir.split('/')[-1]}_conv.json\")\n",
    "    json.dump(data, open(save_path, \"w\"))\n",
    "\n",
    "    save_path = os.path.join(data_dir, f\"{data_dir.split('/')[-1]}_conv.jsonl\")\n",
    "    for d in data:\n",
    "        json.dump(d, open(save_path, \"a\"))\n",
    "        open(save_path, \"a\").write(\"\\n\")\n",
    "\n",
    "    print(f\"merged {len(data)} samples at {save_path}\")"
   ]
  },
  {
   "cell_type": "code",
   "execution_count": 2,
   "metadata": {},
   "outputs": [],
   "source": [
    "import json\n",
    "path = \"/home/mmemmel/projects/vila/data/robopoint_1432k/vqa_lvis_pick_place_point_1432k_normed.json\"\n",
    "data = json.load(open(path))"
   ]
  },
  {
   "cell_type": "code",
   "execution_count": 3,
   "metadata": {},
   "outputs": [
    {
     "data": {
      "text/plain": [
       "[]"
      ]
     },
     "execution_count": 3,
     "metadata": {},
     "output_type": "execute_result"
    }
   ],
   "source": [
    "data[-100:-110]"
   ]
  },
  {
   "cell_type": "code",
   "execution_count": null,
   "metadata": {},
   "outputs": [],
   "source": []
  },
  {
   "cell_type": "code",
   "execution_count": 7,
   "metadata": {},
   "outputs": [],
   "source": [
    "for d in data[-10:]:\n",
    "    if \"point\" in d[\"conversations\"][0][\"value\"]:\n",
    "        print(d[\"conversations\"][0][\"value\"])"
   ]
  }
 ],
 "metadata": {
  "kernelspec": {
   "display_name": "tfds",
   "language": "python",
   "name": "python3"
  },
  "language_info": {
   "codemirror_mode": {
    "name": "ipython",
    "version": 3
   },
   "file_extension": ".py",
   "mimetype": "text/x-python",
   "name": "python",
   "nbconvert_exporter": "python",
   "pygments_lexer": "ipython3",
   "version": "3.8.20"
  }
 },
 "nbformat": 4,
 "nbformat_minor": 2
}
