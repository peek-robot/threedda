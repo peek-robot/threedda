{
 "cells": [
  {
   "cell_type": "code",
   "execution_count": 1,
   "metadata": {},
   "outputs": [],
   "source": [
    "import json\n",
    "\n",
    "# load .json\n",
    "data_path = \"/home/liyi/workspace/dataset/vqa/rlbench_all_tasks_256_1000_eps_sketch_v5_rlbench.json\"\n",
    "data = json.load(open(data_path))"
   ]
  },
  {
   "cell_type": "code",
   "execution_count": 12,
   "metadata": {},
   "outputs": [
    {
     "name": "stderr",
     "output_type": "stream",
     "text": [
      "100%|██████████| 366332/366332 [00:01<00:00, 185899.46it/s]\n"
     ]
    },
    {
     "name": "stdout",
     "output_type": "stream",
     "text": [
      "/lustre/fs12/portfolios/nvr/users/mmemmel/projects/vila/data/hamster/rlbench_hamster/train_rlbench_hamster_conv.json\n"
     ]
    }
   ],
   "source": [
    "import os\n",
    "from tqdm import tqdm\n",
    "from vila_utils.utils.prompts import get_prompt\n",
    "\n",
    "task = \"rlbench_hamster\"\n",
    "data_dir = f\"/lustre/fs12/portfolios/nvr/users/mmemmel/projects/vila/data/hamster/{task}\"\n",
    "os.makedirs(data_dir, exist_ok=True)\n",
    "\n",
    "entries_conv = []\n",
    "entries_vqa = []\n",
    "\n",
    "prompt_type = \"path\"\n",
    "split = \"train\"\n",
    "\n",
    "for sample in tqdm(data):\n",
    "    \n",
    "    quest = sample[\"conversations\"][0][\"value\"]\n",
    "    quest = quest.split(\"<quest>\")[1].split(\"</quest>\")[0]\n",
    "    \n",
    "    answer = sample[\"conversations\"][1][\"value\"]\n",
    "    # remove gripper from answer\n",
    "    answer = answer.replace(\"<action>Close Gripper</action>\", \"\")\n",
    "    answer = answer.replace(\"<action>Open Gripper</action>\", \"\")\n",
    "    answer = answer.replace(\", ,\", \",\")\n",
    "    answer = answer.replace(\", ]\", \"]\")\n",
    "    answer = answer.replace(\"[, \", \"[\")\n",
    "    \n",
    "    # print(quest)\n",
    "    # print(answer)\n",
    "    \n",
    "    # construct conversation format (train)\n",
    "    entry_conv = {\n",
    "        \"image\": sample[\"image\"],\n",
    "        \"id\":  sample[\"id\"],\n",
    "        \"conversations\": [\n",
    "            {\n",
    "                \"from\": \"human\",\n",
    "                \"value\": get_prompt(quest, prompt_type=prompt_type, prompt_eval=False),\n",
    "            },\n",
    "            {\n",
    "                \"from\": \"gpt\",\n",
    "                \"value\": answer\n",
    "            }\n",
    "        ]\n",
    "    }\n",
    "    entries_conv.append(entry_conv)\n",
    "\n",
    "    # constract VQA format (eval)\n",
    "    entry_vqa = {\n",
    "        \"image\": sample[\"image\"],\n",
    "        \"question_id\": sample[\"id\"],\n",
    "        # same as above but w/o <image>\\n -> https://github.com/haotian-liu/LLaVA/issues/732#issuecomment-1994616417\n",
    "        \"text\": get_prompt(quest, prompt_type=prompt_type, prompt_eval=True),\n",
    "        \"category\": task\n",
    "    }\n",
    "    entries_vqa.append(entry_vqa)\n",
    "\n",
    "vqa_file = f'{data_dir}/{split}_{task}_vqa.jsonl'\n",
    "if os.path.exists(vqa_file):\n",
    "    os.remove(vqa_file)\n",
    "\n",
    "with open(vqa_file, 'a') as file:\n",
    "    for entry_vqa in entries_vqa:\n",
    "        file.write(json.dumps(entry_vqa) + '\\n')\n",
    "\n",
    "conv_file = f'{data_dir}/{split}_{task}_conv.json'\n",
    "if os.path.exists(conv_file):\n",
    "    os.remove(conv_file)\n",
    "with open(conv_file, 'w') as file:\n",
    "    json.dump(entries_conv, file)\n",
    "\n",
    "print(conv_file)"
   ]
  },
  {
   "cell_type": "code",
   "execution_count": null,
   "metadata": {},
   "outputs": [],
   "source": []
  }
 ],
 "metadata": {
  "kernelspec": {
   "display_name": "Python (roboverse)",
   "language": "python",
   "name": "roboverse"
  },
  "language_info": {
   "codemirror_mode": {
    "name": "ipython",
    "version": 3
   },
   "file_extension": ".py",
   "mimetype": "text/x-python",
   "name": "python",
   "nbconvert_exporter": "python",
   "pygments_lexer": "ipython3",
   "version": "3.8.20"
  }
 },
 "nbformat": 4,
 "nbformat_minor": 2
}
