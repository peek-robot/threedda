{
 "cells": [
  {
   "cell_type": "code",
   "execution_count": 39,
   "id": "ded1f231",
   "metadata": {},
   "outputs": [],
   "source": [
    "import h5py\n",
    "import numpy as np\n",
    "\n",
    "tmp_data = \"/home/memmelma/Projects/problem_reduction/data/pick_and_place_2500_3_objs_va_vel_004_ee_hamster.hdf5\"\n",
    "\n",
    "with h5py.File(tmp_data, \"r\") as file:\n",
    "    for dk in file[\"data\"].keys():\n",
    "        video = file[\"data\"][dk][\"obs\"][\"rgb\"][:]\n",
    "        lang_embed = file[\"data\"][dk][\"obs\"][\"lang_instr\"][:]\n",
    "        break"
   ]
  },
  {
   "cell_type": "code",
   "execution_count": 5,
   "id": "dde68a74",
   "metadata": {},
   "outputs": [
    {
     "data": {
      "image/jpeg": "[encoded data removed]",
      "image/png": "[encoded data removed]",
      "text/plain": [
       "<PIL.Image.Image image mode=RGB size=128x128>"
      ]
     },
     "execution_count": 5,
     "metadata": {},
     "output_type": "execute_result"
    }
   ],
   "source": [
    "from PIL import Image\n",
    "Image.fromarray(video[0])"
   ]
  },
  {
   "cell_type": "code",
   "execution_count": null,
   "id": "a4f2adb9",
   "metadata": {},
   "outputs": [],
   "source": [
    "# compute all possible lang instructions\n",
    "\n",
    "from problem_reduction.threedda.text_embed import CLIPTextEmbedder\n",
    "clip_embedder = CLIPTextEmbedder(device=\"cuda\")\n",
    "\n",
    "lang_instrs = {}\n",
    "colors = [\"red\", \"green\", \"yellow\", \"blue\"]\n",
    "for c0 in colors:\n",
    "    for c1 in colors:\n",
    "        lang_instr = f\"put the {c0} cube on the {c1} cube\"\n",
    "        lang_instrs[lang_instr] = clip_embedder.embed_instruction(lang_instr).numpy()"
   ]
  },
  {
   "cell_type": "code",
   "execution_count": 66,
   "id": "80911be4",
   "metadata": {},
   "outputs": [
    {
     "name": "stdout",
     "output_type": "stream",
     "text": [
      "LANG put the red cube on the yellow cube \n",
      "DIST 0.0001172232 \n",
      "DINO red cube. yellow cube. gripper.\n"
     ]
    },
    {
     "data": {
      "image/jpeg": "[encoded data removed]",
      "image/png": "[encoded data removed]",
      "text/plain": [
       "<PIL.Image.Image image mode=RGB size=128x128>"
      ]
     },
     "execution_count": 66,
     "metadata": {},
     "output_type": "execute_result"
    }
   ],
   "source": [
    "def get_closest_lang_instr(lang_embed, lang_instrs):\n",
    "    min_distance = np.inf\n",
    "    for k, v in lang_instrs.items():\n",
    "        # if np.sum(lang_embed[0] - v):\n",
    "            # print(k)\n",
    "        distance = np.abs(np.sum(lang_embed[0] - v))\n",
    "        if distance < min_distance:\n",
    "            min_distance = distance\n",
    "            best_lang_instr = k\n",
    "\n",
    "    return best_lang_instr, min_distance\n",
    "\n",
    "lang_instr, distance = get_closest_lang_instr(lang_embed[0], lang_instrs)\n",
    "objects = lang_instr.replace(\"put the \", \"\").split(\" on the \") + [\"gripper.\"]\n",
    "dino_instr = \". \".join(objects)\n",
    "\n",
    "print(\"LANG\", lang_instr, \"\\nDIST\", distance, \"\\nDINO\", dino_instr)\n",
    "Image.fromarray(video[-1])"
   ]
  },
  {
   "cell_type": "code",
   "execution_count": 6,
   "id": "0cf382d9",
   "metadata": {},
   "outputs": [],
   "source": [
    "import torch, numpy as np\n",
    "from PIL import Image\n",
    "from transformers import (\n",
    "    AutoProcessor, AutoModelForZeroShotObjectDetection,\n",
    "    Sam2Processor, Sam2Model,\n",
    "    Sam2VideoProcessor, Sam2VideoModel, infer_device\n",
    ")"
   ]
  },
  {
   "cell_type": "code",
   "execution_count": null,
   "id": "973e4e41",
   "metadata": {},
   "outputs": [],
   "source": []
  },
  {
   "cell_type": "code",
   "execution_count": 93,
   "id": "c3294407",
   "metadata": {},
   "outputs": [
    {
     "name": "stderr",
     "output_type": "stream",
     "text": [
      "Fetching 1 files: 100%|██████████| 1/1 [00:00<00:00, 3968.12it/s]\n",
      "Fetching 1 files: 100%|██████████| 1/1 [00:00<00:00, 13066.37it/s]\n",
      "Fetching 2 files: 100%|██████████| 2/2 [00:00<00:00, 24600.02it/s]\n",
      "You are using a model of type sam2_video to instantiate a model of type sam2. This is not supported for all configurations of models and can yield errors.\n",
      "Fetching 2 files: 100%|██████████| 2/2 [00:00<00:00, 30174.85it/s]\n",
      "Fetching 3 files: 100%|██████████| 3/3 [00:00<00:00, 41665.27it/s]\n"
     ]
    },
    {
     "name": "stdout",
     "output_type": "stream",
     "text": [
      "t=0 | tracked 4 objects, mask size=(128, 128)\n",
      "t=1 | tracked 4 objects, mask size=(128, 128)\n",
      "t=2 | tracked 4 objects, mask size=(128, 128)\n",
      "t=3 | tracked 4 objects, mask size=(128, 128)\n",
      "t=4 | tracked 4 objects, mask size=(128, 128)\n",
      "t=5 | tracked 4 objects, mask size=(128, 128)\n",
      "t=6 | tracked 4 objects, mask size=(128, 128)\n",
      "t=7 | tracked 4 objects, mask size=(128, 128)\n",
      "t=8 | tracked 4 objects, mask size=(128, 128)\n",
      "t=9 | tracked 4 objects, mask size=(128, 128)\n",
      "t=10 | tracked 4 objects, mask size=(128, 128)\n",
      "t=11 | tracked 4 objects, mask size=(128, 128)\n",
      "t=12 | tracked 4 objects, mask size=(128, 128)\n",
      "t=13 | tracked 4 objects, mask size=(128, 128)\n",
      "t=14 | tracked 4 objects, mask size=(128, 128)\n",
      "t=15 | tracked 4 objects, mask size=(128, 128)\n",
      "t=16 | tracked 4 objects, mask size=(128, 128)\n",
      "t=17 | tracked 4 objects, mask size=(128, 128)\n",
      "t=18 | tracked 4 objects, mask size=(128, 128)\n",
      "t=19 | tracked 4 objects, mask size=(128, 128)\n",
      "t=20 | tracked 4 objects, mask size=(128, 128)\n",
      "t=21 | tracked 4 objects, mask size=(128, 128)\n",
      "t=22 | tracked 4 objects, mask size=(128, 128)\n",
      "t=23 | tracked 4 objects, mask size=(128, 128)\n",
      "t=24 | tracked 4 objects, mask size=(128, 128)\n",
      "t=25 | tracked 4 objects, mask size=(128, 128)\n",
      "t=26 | tracked 4 objects, mask size=(128, 128)\n",
      "t=27 | tracked 4 objects, mask size=(128, 128)\n",
      "t=28 | tracked 4 objects, mask size=(128, 128)\n",
      "t=29 | tracked 4 objects, mask size=(128, 128)\n",
      "t=30 | tracked 4 objects, mask size=(128, 128)\n",
      "t=31 | tracked 4 objects, mask size=(128, 128)\n",
      "t=32 | tracked 4 objects, mask size=(128, 128)\n",
      "t=33 | tracked 4 objects, mask size=(128, 128)\n",
      "t=34 | tracked 4 objects, mask size=(128, 128)\n",
      "t=35 | tracked 4 objects, mask size=(128, 128)\n",
      "t=36 | tracked 4 objects, mask size=(128, 128)\n",
      "t=37 | tracked 4 objects, mask size=(128, 128)\n",
      "t=38 | tracked 4 objects, mask size=(128, 128)\n",
      "t=39 | tracked 4 objects, mask size=(128, 128)\n",
      "t=40 | tracked 4 objects, mask size=(128, 128)\n",
      "t=41 | tracked 4 objects, mask size=(128, 128)\n",
      "t=42 | tracked 4 objects, mask size=(128, 128)\n",
      "t=43 | tracked 4 objects, mask size=(128, 128)\n",
      "t=44 | tracked 4 objects, mask size=(128, 128)\n",
      "t=45 | tracked 4 objects, mask size=(128, 128)\n",
      "t=46 | tracked 4 objects, mask size=(128, 128)\n",
      "t=47 | tracked 4 objects, mask size=(128, 128)\n",
      "t=48 | tracked 4 objects, mask size=(128, 128)\n",
      "t=49 | tracked 4 objects, mask size=(128, 128)\n",
      "t=50 | tracked 4 objects, mask size=(128, 128)\n"
     ]
    },
    {
     "name": "stderr",
     "output_type": "stream",
     "text": [
      "huggingface/tokenizers: The current process just got forked, after parallelism has already been used. Disabling parallelism to avoid deadlocks...\n",
      "To disable this warning, you can either:\n",
      "\t- Avoid using `tokenizers` before the fork if possible\n",
      "\t- Explicitly set the environment variable TOKENIZERS_PARALLELISM=(true | false)\n"
     ]
    }
   ],
   "source": [
    "def masks_from_text(image: Image.Image,\n",
    "                    text: str,\n",
    "                    dino_id=\"IDEA-Research/grounding-dino-tiny\",\n",
    "                    sam2_id=\"facebook/sam2.1-hiera-small\",\n",
    "                    box_thresh=0.35, text_thresh=0.25):\n",
    "    device = infer_device()\n",
    "\n",
    "    # GroundingDINO: zero-shot boxes from language\n",
    "    dino_proc = AutoProcessor.from_pretrained(dino_id)\n",
    "    dino = AutoModelForZeroShotObjectDetection.from_pretrained(dino_id).to(device)\n",
    "    din = dino_proc(images=image, text=text, return_tensors=\"pt\").to(device)\n",
    "    with torch.no_grad():\n",
    "        dout = dino(**din)\n",
    "    det = dino_proc.post_process_grounded_object_detection(\n",
    "        dout, din.input_ids, threshold=box_thresh, text_threshold=text_thresh,\n",
    "        target_sizes=[image.size[::-1]]\n",
    "    )[0]  # -> dict with \"boxes\" (xyxy), \"scores\", \"labels\"  [H,W] scale  (HF docs)\n",
    "    if det[\"boxes\"].numel() == 0:\n",
    "        return None  # nothing found\n",
    "\n",
    "    # SAM2 image: convert boxes → masks\n",
    "    s2_proc = Sam2Processor.from_pretrained(sam2_id)\n",
    "    s2 = Sam2Model.from_pretrained(sam2_id).to(device)\n",
    "    input_boxes = [det[\"boxes\"].tolist()]                    # [image][objects][4]\n",
    "    sin = s2_proc(images=image, input_boxes=input_boxes, return_tensors=\"pt\").to(device)\n",
    "    with torch.no_grad():\n",
    "        sout = s2(**sin, multimask_output=False)             # 1 mask per object\n",
    "    masks = s2_proc.post_process_masks(sout.pred_masks.cpu(), sin[\"original_sizes\"])[0]\n",
    "    # post_process returns (1, N, H, W) for single image; squeeze batch\n",
    "    if masks.dim() == 4 and masks.size(0) == 1:\n",
    "        masks = masks[0]\n",
    "    masks = (masks > 0.5).to(torch.bool)                     # binarize for video prompts\n",
    "\n",
    "    # pack results\n",
    "    return {\n",
    "        \"boxes_xyxy\": det[\"boxes\"].cpu(),    # (N,4) on original image scale\n",
    "        \"scores\": det[\"scores\"].cpu(),       # (N,)\n",
    "        \"labels\": det[\"labels\"],             # list[str] (may be phrases)\n",
    "        \"masks\": masks,                      # (N,H,W) bool\n",
    "        \"orig_hw\": tuple(sin[\"original_sizes\"][0].tolist())  # (H,W)\n",
    "    }\n",
    "\n",
    "def track_masks_stream(frames, init_result, sam2_id=\"facebook/sam2.1-hiera-small\"):\n",
    "    \"\"\"\n",
    "    frames: iterable of PIL.Image frames, frame 0 must match the image used to create init_result\n",
    "    init_result: output dict from masks_from_text()\n",
    "    yields (t, masks_t) where masks_t is a (N,H,W) bool torch.Tensor for frame t\n",
    "    \"\"\"\n",
    "    device = infer_device()\n",
    "    vproc = Sam2VideoProcessor.from_pretrained(sam2_id)\n",
    "    vmodel = Sam2VideoModel.from_pretrained(sam2_id).to(device, dtype=torch.bfloat16\n",
    "                                                        if torch.cuda.is_available() else torch.float32)\n",
    "\n",
    "    # Streaming session (no preloaded video)\n",
    "    session = vproc.init_video_session(inference_device=device,\n",
    "                                       dtype=torch.bfloat16 if torch.cuda.is_available() else torch.float32)\n",
    "\n",
    "    obj_ids = list(range(1, init_result[\"masks\"].shape[0] + 1))  # stable IDs 1..N\n",
    "    for t, frame in enumerate(frames):\n",
    "        vin = vproc(images=frame, return_tensors=\"pt\")\n",
    "        if t == 0:\n",
    "            # prompt the tracker with binary masks on frame 0\n",
    "            vproc.add_inputs_to_inference_session(\n",
    "                inference_session=session,\n",
    "                frame_idx=0,\n",
    "                obj_ids=obj_ids,\n",
    "                input_masks=[m.numpy() for m in init_result[\"masks\"].cpu()],  # list of (H,W)\n",
    "                original_size=tuple(vin.original_sizes[0])  # required in streaming mode\n",
    "            )\n",
    "            out = vmodel(inference_session=session, frame=vin.pixel_values[0].to(vmodel.device))\n",
    "        else:\n",
    "            out = vmodel(inference_session=session, frame=vin.pixel_values[0].to(vmodel.device))\n",
    "\n",
    "        masks_t = vproc.post_process_masks(\n",
    "            [out.pred_masks], original_sizes=vin.original_sizes, binarize=True\n",
    "        )[0]  # -> (N,H,W)\n",
    "        yield t, masks_t.to(torch.bool)\n",
    "\n",
    "\n",
    "import numpy as np\n",
    "\n",
    "def apply_masks_to_frames(frames, masks_list, darken_background=False):\n",
    "    \"\"\"\n",
    "    frames: list of PIL.Image or np.ndarray [H,W,3]\n",
    "    masks_list: list of torch.BoolTensor or np.ndarray [N,H,W]\n",
    "    returns: list of np.ndarray frames with masks applied\n",
    "    \"\"\"\n",
    "    out_frames = []\n",
    "    for frame, masks in zip(frames, masks_list):\n",
    "        if not isinstance(frame, np.ndarray):\n",
    "            frame = np.array(frame)\n",
    "        if hasattr(masks, \"numpy\"):  # torch.Tensor\n",
    "            masks = masks.cpu().numpy()\n",
    "        masks = masks.squeeze(1)\n",
    "        if masks.ndim == 3:  # multiple objects -> combine\n",
    "            mask = np.any(masks, axis=0)\n",
    "        else:\n",
    "            mask = masks\n",
    "\n",
    "        mask3 = np.repeat(mask[..., None], 3, axis=-1)\n",
    "        out = frame * mask3\n",
    "\n",
    "        out_frames.append(out.astype(np.uint8))\n",
    "    return out_frames\n",
    "\n",
    "\n",
    "init = masks_from_text(Image.fromarray(video[0]), dino_instr)\n",
    "\n",
    "masks_list = []\n",
    "for t, masks in track_masks_stream(video, init):\n",
    "    print(f\"t={t} | tracked {masks.shape[0]} objects, mask size={tuple(masks.shape[-2:])}\")\n",
    "    masks_list.append(masks)\n",
    "\n",
    "\n",
    "video_masked = apply_masks_to_frames(video, masks_list)\n",
    "\n",
    "import imageio\n",
    "imageio.mimsave(\"video_masked.mp4\", video_masked)"
   ]
  },
  {
   "cell_type": "code",
   "execution_count": 96,
   "id": "12c0750e",
   "metadata": {},
   "outputs": [
    {
     "name": "stderr",
     "output_type": "stream",
     "text": [
      "Fetching 1 files: 100%|██████████| 1/1 [00:00<00:00, 2657.99it/s]\n",
      "Fetching 1 files: 100%|██████████| 1/1 [00:00<00:00, 8050.49it/s]\n",
      "/home/memmelma/miniforge3/envs/pr_3dda_sam/lib/python3.10/site-packages/transformers/models/grounding_dino/processing_grounding_dino.py:94: FutureWarning: The key `labels` is will return integer ids in `GroundingDinoProcessor.post_process_grounded_object_detection` output since v4.51.0. Use `text_labels` instead to retrieve string object names.\n",
      "  warnings.warn(self.message, FutureWarning)\n",
      "Fetching 2 files: 100%|██████████| 2/2 [00:00<00:00, 35394.97it/s]\n",
      "You are using a model of type sam2_video to instantiate a model of type sam2. This is not supported for all configurations of models and can yield errors.\n",
      "Fetching 2 files: 100%|██████████| 2/2 [00:00<00:00, 26051.58it/s]\n",
      "Fetching 3 files: 100%|██████████| 3/3 [00:00<00:00, 44306.03it/s]\n",
      "100%|██████████| 50/50 [00:04<00:00, 12.25it/s]\n",
      "huggingface/tokenizers: The current process just got forked, after parallelism has already been used. Disabling parallelism to avoid deadlocks...\n",
      "To disable this warning, you can either:\n",
      "\t- Avoid using `tokenizers` before the fork if possible\n",
      "\t- Explicitly set the environment variable TOKENIZERS_PARALLELISM=(true | false)\n"
     ]
    },
    {
     "data": {
      "image/jpeg": "[encoded data removed]",
      "image/png": "[encoded data removed]",
      "text/plain": [
       "<PIL.Image.Image image mode=RGB size=128x128>"
      ]
     },
     "execution_count": 96,
     "metadata": {},
     "output_type": "execute_result"
    }
   ],
   "source": [
    "import torch\n",
    "from PIL import Image\n",
    "from transformers import (\n",
    "    AutoProcessor, AutoModelForZeroShotObjectDetection,\n",
    "    Sam2Processor, Sam2Model,\n",
    "    Sam2VideoProcessor, Sam2VideoModel, infer_device\n",
    ")\n",
    "\n",
    "class GroundedSam2Tracker:\n",
    "    def __init__(self,\n",
    "                 init_frame: Image.Image,\n",
    "                 text: str,\n",
    "                 dino_id=\"IDEA-Research/grounding-dino-tiny\",\n",
    "                 sam2_id=\"facebook/sam2.1-hiera-small\",\n",
    "                 box_thresh=0.35, text_thresh=0.25):\n",
    "        \"\"\"\n",
    "        Runs: text→boxes (GroundingDINO) → masks (SAM2 image) → seeds SAM2 Video session.\n",
    "        \"\"\"\n",
    "        self.device = infer_device()\n",
    "\n",
    "        # ---- GroundingDINO: language → boxes on init_frame ----\n",
    "        self.dino_proc = AutoProcessor.from_pretrained(dino_id)\n",
    "        self.dino = AutoModelForZeroShotObjectDetection.from_pretrained(dino_id).to(self.device)\n",
    "        din = self.dino_proc(images=init_frame, text=text, return_tensors=\"pt\").to(self.device)\n",
    "        with torch.no_grad():\n",
    "            dout = self.dino(**din)\n",
    "        det = self.dino_proc.post_process_grounded_object_detection(\n",
    "            dout, din.input_ids, threshold=box_thresh, text_threshold=text_thresh,\n",
    "            target_sizes=[init_frame.size[::-1]]\n",
    "        )[0]\n",
    "        if det[\"boxes\"].numel() == 0:\n",
    "            raise ValueError(\"No detections above thresholds on the init frame.\")\n",
    "\n",
    "        # Stash detections\n",
    "        self.boxes_xyxy = det[\"boxes\"].detach().cpu()   # (N,4)\n",
    "        self.scores = det[\"scores\"].detach().cpu()      # (N,)\n",
    "        self.labels = det[\"labels\"]                     # list[str]\n",
    "\n",
    "        # ---- SAM2 image: boxes → masks on init_frame ----\n",
    "        self.s2_proc = Sam2Processor.from_pretrained(sam2_id)\n",
    "        self.s2 = Sam2Model.from_pretrained(sam2_id).to(self.device)\n",
    "        input_boxes = [self.boxes_xyxy.tolist()]  # [image][objects][4]\n",
    "        sin = self.s2_proc(images=init_frame, input_boxes=input_boxes, return_tensors=\"pt\").to(self.device)\n",
    "        with torch.no_grad():\n",
    "            sout = self.s2(**sin, multimask_output=False)\n",
    "        masks = self.s2_proc.post_process_masks(sout.pred_masks.cpu(), sin[\"original_sizes\"])[0]\n",
    "        if masks.dim() == 4 and masks.size(0) == 1:\n",
    "            masks = masks[0]\n",
    "        self.init_masks = (masks > 0.5).to(torch.bool)  # (N,H,W)\n",
    "\n",
    "        # ---- SAM2 Video: create streaming session and seed with init masks ----\n",
    "        self.vproc = Sam2VideoProcessor.from_pretrained(sam2_id)\n",
    "        self.vmodel = Sam2VideoModel.from_pretrained(sam2_id).to(\n",
    "            self.device, dtype=torch.bfloat16 if torch.cuda.is_available() else torch.float32\n",
    "        )\n",
    "        self.session = self.vproc.init_video_session(\n",
    "            inference_device=self.device,\n",
    "            dtype=torch.bfloat16 if torch.cuda.is_available() else torch.float32\n",
    "        )\n",
    "        self.obj_ids = list(range(1, self.init_masks.shape[0] + 1))\n",
    "        vin0 = self.vproc(images=init_frame, return_tensors=\"pt\")\n",
    "        self.vproc.add_inputs_to_inference_session(\n",
    "            inference_session=self.session,\n",
    "            frame_idx=0,\n",
    "            obj_ids=self.obj_ids,\n",
    "            input_masks=[m.numpy() for m in self.init_masks.cpu()],  # list of (H,W)\n",
    "            original_size=tuple(vin0.original_sizes[0])\n",
    "        )\n",
    "        with torch.no_grad():\n",
    "            out0 = self.vmodel(inference_session=self.session,\n",
    "                               frame=vin0.pixel_values[0].to(self.vmodel.device))\n",
    "        masks0 = self.vproc.post_process_masks([out0.pred_masks],\n",
    "                                               original_sizes=vin0.original_sizes,\n",
    "                                               binarize=True)[0]\n",
    "        self.frame_idx = 1\n",
    "        self.last_masks = masks0.to(torch.bool)\n",
    "\n",
    "    def apply_masks_to_frames(self, frames, masks_list):\n",
    "        \"\"\"\n",
    "        frames: list of PIL.Image or np.ndarray [H,W,3]\n",
    "        masks_list: list of torch.BoolTensor or np.ndarray [N,H,W]\n",
    "        returns: list of np.ndarray frames with masks applied\n",
    "        \"\"\"\n",
    "        out_frames = []\n",
    "        for frame, masks in zip(frames, masks_list):\n",
    "            if not isinstance(frame, np.ndarray):\n",
    "                frame = np.array(frame)\n",
    "            if hasattr(masks, \"numpy\"):  # torch.Tensor\n",
    "                masks = masks.cpu().numpy()\n",
    "            masks = masks.squeeze(1)\n",
    "            if masks.ndim == 3:  # multiple objects -> combine\n",
    "                mask = np.any(masks, axis=0)\n",
    "            else:\n",
    "                mask = masks\n",
    "\n",
    "            mask3 = np.repeat(mask[..., None], 3, axis=-1)\n",
    "            out = frame * mask3\n",
    "\n",
    "            out_frames.append(out.astype(np.uint8))\n",
    "        return out_frames\n",
    "\n",
    "    @torch.no_grad()\n",
    "    def step(self, frame: Image.Image):\n",
    "        \"\"\"\n",
    "        Push one new frame; returns (frame_idx, masks) where masks is (N,H,W) bool tensor.\n",
    "        \"\"\"\n",
    "        vin = self.vproc(images=frame, return_tensors=\"pt\")\n",
    "        out = self.vmodel(inference_session=self.session,\n",
    "                          frame=vin.pixel_values[0].to(self.vmodel.device))\n",
    "        masks_t = self.vproc.post_process_masks([out.pred_masks],\n",
    "                                                original_sizes=vin.original_sizes,\n",
    "                                                binarize=True)[0].to(torch.bool)\n",
    "        idx = self.frame_idx\n",
    "        self.frame_idx += 1\n",
    "        self.last_masks = masks_t\n",
    "        return idx, masks_t\n",
    "\n",
    "from tqdm import tqdm\n",
    "\n",
    "tracker = GroundedSam2Tracker(init_frame=Image.fromarray(video[0]), text=dino_instr)\n",
    "\n",
    "masks_list = []\n",
    "for f in tqdm(video[1:]):\n",
    "    t, masks = tracker.step(Image.fromarray(f))\n",
    "    masks_list.append(masks)\n",
    "\n",
    "video_masked = tracker.apply_masks_to_frames(video, masks_list)\n",
    "\n",
    "imageio.mimsave(\"video_masked.mp4\", video_masked)\n",
    "\n",
    "Image.fromarray(video_masked[-1])"
   ]
  },
  {
   "cell_type": "code",
   "execution_count": null,
   "id": "05974dd6",
   "metadata": {},
   "outputs": [],
   "source": []
  },
  {
   "cell_type": "code",
   "execution_count": null,
   "id": "5aaaa799",
   "metadata": {},
   "outputs": [],
   "source": [
    "# GroundingDINO -> open-vocab masks\n",
    "\n",
    "# SAM2 -> track masks over video"
   ]
  },
  {
   "cell_type": "code",
   "execution_count": 2,
   "id": "f8a0fbc4",
   "metadata": {},
   "outputs": [
    {
     "data": {
      "image/jpeg": "[encoded data removed]",
      "image/png": "[encoded data removed]",
      "text/plain": [
       "<PIL.Image.Image image mode=RGB size=128x128>"
      ]
     },
     "execution_count": 2,
     "metadata": {},
     "output_type": "execute_result"
    }
   ],
   "source": [
    "from PIL import Image\n",
    "import h5py\n",
    "\n",
    "path =\"/home/memmelma/Projects/problem_reduction/data/pick_and_place_2500_3_objs_va_vel_004_ee_exp_mask.hdf5\"\n",
    "with h5py.File(path, \"r\") as file:\n",
    "    dk = list(file[\"data\"].keys())[-1]\n",
    "    rgb = file[\"data\"][dk][\"obs\"][\"rgb\"][:]\n",
    "    \n",
    "Image.fromarray(rgb[0])\n"
   ]
  },
  {
   "cell_type": "code",
   "execution_count": null,
   "id": "b090ff51",
   "metadata": {},
   "outputs": [
    {
     "name": "stdout",
     "output_type": "stream",
     "text": [
      "put the red cube on the yellow cube\n"
     ]
    }
   ],
   "source": []
  },
  {
   "cell_type": "code",
   "execution_count": 50,
   "id": "a6bf1c6c",
   "metadata": {},
   "outputs": [
    {
     "data": {
      "image/jpeg": "[encoded data removed]",
      "image/png": "[encoded data removed]",
      "text/plain": [
       "<PIL.Image.Image image mode=RGB size=128x128>"
      ]
     },
     "execution_count": 50,
     "metadata": {},
     "output_type": "execute_result"
    }
   ],
   "source": [
    "Image.fromarray(video[-1])"
   ]
  },
  {
   "cell_type": "code",
   "execution_count": null,
   "id": "32b06702",
   "metadata": {},
   "outputs": [
    {
     "data": {
      "text/plain": [
       "array([[[ 0.33928597,  0.11646014,  0.10195107, ...,  0.24677396,\n",
       "          0.5906364 ,  0.10129976],\n",
       "        [ 2.7050977 , -1.5918036 ,  0.10446533, ...,  0.08746468,\n",
       "          0.41102052, -0.56180817],\n",
       "        [ 1.3162001 , -1.4527766 ,  1.1640486 , ..., -0.8852036 ,\n",
       "          0.6669067 , -0.8653064 ],\n",
       "        ...,\n",
       "        [ 2.6796374 , -0.21745835, -0.2451016 , ..., -0.96786547,\n",
       "          0.5947402 , -0.8720086 ],\n",
       "        [ 2.688259  , -0.21374801, -0.26492587, ..., -0.9343807 ,\n",
       "          0.5807536 , -0.8603014 ],\n",
       "        [ 2.71103   , -0.22444654, -0.27665448, ..., -0.90365225,\n",
       "          0.56468606, -0.8557786 ]]], dtype=float32)"
      ]
     },
     "execution_count": 41,
     "metadata": {},
     "output_type": "execute_result"
    }
   ],
   "source": [
    "lang_embed[0] == "
   ]
  }
 ],
 "metadata": {
  "kernelspec": {
   "display_name": "pr_3dda_sam",
   "language": "python",
   "name": "python3"
  },
  "language_info": {
   "codemirror_mode": {
    "name": "ipython",
    "version": 3
   },
   "file_extension": ".py",
   "mimetype": "text/x-python",
   "name": "python",
   "nbconvert_exporter": "python",
   "pygments_lexer": "ipython3",
   "version": "3.10.18"
  }
 },
 "nbformat": 4,
 "nbformat_minor": 5
}
