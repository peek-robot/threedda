{
 "cells": [
  {
   "cell_type": "code",
   "execution_count": 1,
   "id": "cddbe82e",
   "metadata": {},
   "outputs": [],
   "source": [
    "import h5py\n",
    "import numpy as np\n",
    "\n",
    "data_path = \"/home/memmelma/Projects/problem_reduction/data/pick_5000_3_objs_va_refactor.hdf5\"\n",
    "with h5py.File(data_path, \"a\") as file:\n",
    "\n",
    "    for dk in file[\"data\"].keys():\n",
    "        tmp = file[\"data\"][dk][\"obs\"][\"path_vlm\"][0]\n",
    "        try:\n",
    "            del file[\"data\"][dk][\"obs\"][\"path_vlm\"]\n",
    "        except:\n",
    "            pass\n",
    "        file[\"data\"][dk][\"obs\"][\"path_vlm\"] = np.repeat(tmp[None], file[\"data\"][dk][\"obs\"][\"path\"].shape[0], axis=0)\n",
    "        \n",
    "        tmp = file[\"data\"][dk][\"obs\"][\"mask_vlm\"][0]\n",
    "        try:\n",
    "            del file[\"data\"][dk][\"obs\"][\"mask_vlm\"]\n",
    "        except:\n",
    "            pass\n",
    "        file[\"data\"][dk][\"obs\"][\"mask_vlm\"] = np.repeat(tmp[None], file[\"data\"][dk][\"obs\"][\"mask\"].shape[0], axis=0)\n",
    "        "
   ]
  },
  {
   "cell_type": "code",
   "execution_count": null,
   "id": "18491f27",
   "metadata": {},
   "outputs": [],
   "source": []
  }
 ],
 "metadata": {
  "kernelspec": {
   "display_name": "pr_3dda",
   "language": "python",
   "name": "python3"
  },
  "language_info": {
   "codemirror_mode": {
    "name": "ipython",
    "version": 3
   },
   "file_extension": ".py",
   "mimetype": "text/x-python",
   "name": "python",
   "nbconvert_exporter": "python",
   "pygments_lexer": "ipython3",
   "version": "3.10.18"
  }
 },
 "nbformat": 4,
 "nbformat_minor": 5
}
